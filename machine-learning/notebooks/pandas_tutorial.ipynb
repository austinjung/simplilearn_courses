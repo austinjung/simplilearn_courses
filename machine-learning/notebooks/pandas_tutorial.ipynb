{
 "cells": [
  {
   "cell_type": "code",
   "execution_count": 1,
   "metadata": {},
   "outputs": [
    {
     "data": {
      "text/plain": [
       "'1.1.5'"
      ]
     },
     "execution_count": 1,
     "metadata": {},
     "output_type": "execute_result"
    }
   ],
   "source": [
    "import pandas as pd\n",
    "pd.__version__"
   ]
  },
  {
   "cell_type": "code",
   "execution_count": 2,
   "metadata": {},
   "outputs": [
    {
     "name": "stdout",
     "output_type": "stream",
     "text": [
      "        0      1       2\n",
      "0   Spark  20000  30days\n",
      "1  pandas  20000  40days\n"
     ]
    }
   ],
   "source": [
    "# Create pandas DataFrame from List\n",
    "technologies = [ \n",
    "    [\"Spark\",20000, \"30days\"], \n",
    "    [\"pandas\",20000, \"40days\"], \n",
    "]\n",
    "df = pd.DataFrame(technologies)\n",
    "print(df)"
   ]
  },
  {
   "cell_type": "code",
   "execution_count": 3,
   "metadata": {},
   "outputs": [
    {
     "name": "stdout",
     "output_type": "stream",
     "text": [
      "  Courses    Fee Duration\n",
      "a   Spark  20000   30days\n",
      "b  pandas  20000   40days\n"
     ]
    }
   ],
   "source": [
    "# Add Column & Row Labels to the DataFrame\n",
    "column_names = [\"Courses\",\"Fee\",\"Duration\"]\n",
    "row_label = [\"a\",\"b\"]\n",
    "df = pd.DataFrame(technologies,columns=column_names,index=row_label)\n",
    "print(df)"
   ]
  },
  {
   "cell_type": "code",
   "execution_count": 6,
   "metadata": {},
   "outputs": [
    {
     "data": {
      "text/plain": [
       "Courses     object\n",
       "Fee          int64\n",
       "Duration    object\n",
       "dtype: object"
      ]
     },
     "execution_count": 6,
     "metadata": {},
     "output_type": "execute_result"
    }
   ],
   "source": [
    "# Show the data type of each column\n",
    "df.dtypes"
   ]
  },
  {
   "cell_type": "code",
   "execution_count": 8,
   "metadata": {},
   "outputs": [
    {
     "data": {
      "text/plain": [
       "(2, 3)"
      ]
     },
     "execution_count": 8,
     "metadata": {},
     "output_type": "execute_result"
    }
   ],
   "source": [
    "# Show the data shape of the data frame\n",
    "df.shape"
   ]
  },
  {
   "cell_type": "code",
   "execution_count": 16,
   "metadata": {},
   "outputs": [
    {
     "data": {
      "text/plain": [
       "Courses      object\n",
       "Fee         float64\n",
       "Duration     object\n",
       "dtype: object"
      ]
     },
     "execution_count": 16,
     "metadata": {},
     "output_type": "execute_result"
    }
   ],
   "source": [
    "# set custom types to DataFrame\n",
    "types={'Courses': str, 'Fee':float, 'Duration':str}\n",
    "df = df.astype(types)\n",
    "df.dtypes"
   ]
  },
  {
   "cell_type": "code",
   "execution_count": 17,
   "metadata": {},
   "outputs": [
    {
     "name": "stdout",
     "output_type": "stream",
     "text": [
      "   Courses    Fee Duration  Discount\n",
      "0    Spark  20000    30day      1000\n",
      "1  PySpark  25000   40days      2300\n",
      "2   Hadoop  26000   35days      1500\n"
     ]
    }
   ],
   "source": [
    "# Create DataFrame from Dictionary\n",
    "technologies = {\n",
    "    'Courses':[\"Spark\",\"PySpark\",\"Hadoop\"],\n",
    "    'Fee' :[20000,25000,26000],\n",
    "    'Duration':['30day','40days','35days'],\n",
    "    'Discount':[1000,2300,1500]\n",
    "}\n",
    "df = pd.DataFrame(technologies)\n",
    "print(df)"
   ]
  },
  {
   "cell_type": "code",
   "execution_count": null,
   "metadata": {},
   "outputs": [],
   "source": []
  }
 ],
 "metadata": {
  "kernelspec": {
   "display_name": "Python 3",
   "language": "python",
   "name": "python3"
  },
  "language_info": {
   "codemirror_mode": {
    "name": "ipython",
    "version": 3
   },
   "file_extension": ".py",
   "mimetype": "text/x-python",
   "name": "python",
   "nbconvert_exporter": "python",
   "pygments_lexer": "ipython3",
   "version": "3.6.9"
  }
 },
 "nbformat": 4,
 "nbformat_minor": 2
}
